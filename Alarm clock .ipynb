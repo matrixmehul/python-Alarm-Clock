{
 "cells": [
  {
   "cell_type": "markdown",
   "metadata": {},
   "source": [
    "# Import imp modules"
   ]
  },
  {
   "cell_type": "code",
   "execution_count": 1,
   "metadata": {},
   "outputs": [],
   "source": [
    "from tkinter import *\n",
    "import datetime\n",
    "import time\n",
    "import winsound  \n",
    "\n",
    "'''Winsound module: =>  provides access to the basic sound playing machinery\n",
    "provided by Windows platforms. This is useful to generate the sound immediately\n",
    "when a function is called.'''"
   ]
  },
  {
   "cell_type": "markdown",
   "metadata": {},
   "source": [
    "# Create a while loop"
   ]
  },
  {
   "cell_type": "code",
   "execution_count": 3,
   "metadata": {},
   "outputs": [],
   "source": [
    "def alarm(set_alarm_timer):\n",
    "    while True:\n",
    "        time.sleep(1)\n",
    "        current_time = datetime.datetime.now()\n",
    "        now = current_time.strftime(\"%H:%M:%S\")\n",
    "        date = current_time.strftime(\"d/%m/%y\")\n",
    "        print(\"The set date is : \",date)\n",
    "        print(now)\n",
    "        if now == set_alarm_timer:\n",
    "            print(\"Time to wake Up\")\n",
    "        winsound.PlaySound(\"sound.wav\",winsound.SND_ASYNC)\n",
    "        break\n",
    "\n",
    "def actual_time():\n",
    "    set_alarm_timer = f\"{hour.get()}:{min.get()}:{sec.get()}\"\n",
    "    alarm(set_alarm_timer)"
   ]
  },
  {
   "cell_type": "code",
   "execution_count": 4,
   "metadata": {},
   "outputs": [
    {
     "data": {
      "text/plain": [
       "'Define a function named as alarm() which takes the argument of (set_alarm_timer).\\nIt contains a while loop with a Boolean function True which makes the program automatic to work.\\n\\ntime.sleep(1) halts the execution of the further commands given until we get the time \\nvalue from the user later in the code and returns the background thread of the\\nclock time going on at a regular interval.\\n\\nGet the current time using current_time which takes the argument of datetime.datetime.now().\\n\\nnow is used to print the time and date is used to print the current date by\\nstring conversion using strftime().\\n\\nDefine another function here named actual_time() which takes in the user value\\nfor setting the alarm in the string format. The same argument of (set_alarm_timer) as alarm before to execute the while loop which we further use while making GUI.\\n\\nIf loop suggests that if the user input time set_alarm_timer matches with the \\nwhile loop ongoing time now, the message is printed as” Time to Wake up”.\\n\\nwinsound.SND_ASYNC plays the system generated sound as soon the condition \\nsatisfies, acting as a reminder for the alarm clock.'"
      ]
     },
     "execution_count": 4,
     "metadata": {},
     "output_type": "execute_result"
    }
   ],
   "source": [
    "\"\"\"Define a function named as alarm() which takes the argument of (set_alarm_timer).\n",
    "It contains a while loop with a Boolean function True which makes the program automatic to work.\n",
    "\n",
    "time.sleep(1) halts the execution of the further commands given until we get the time \n",
    "value from the user later in the code and returns the background thread of the\n",
    "clock time going on at a regular interval.\n",
    "\n",
    "Get the current time using current_time which takes the argument of datetime.datetime.now().\n",
    "\n",
    "now is used to print the time and date is used to print the current date by\n",
    "string conversion using strftime().\n",
    "\n",
    "Define another function here named actual_time() which takes in the user value\n",
    "for setting the alarm in the string format. The same argument of (set_alarm_timer) as alarm before to execute the while loop which we further use while making GUI.\n",
    "\n",
    "If loop suggests that if the user input time set_alarm_timer matches with the \n",
    "while loop ongoing time now, the message is printed as” Time to Wake up”.\n",
    "\n",
    "winsound.SND_ASYNC plays the system generated sound as soon the condition \n",
    "satisfies, acting as a reminder for the alarm clock.\"\"\""
   ]
  },
  {
   "cell_type": "markdown",
   "metadata": {},
   "source": [
    "# Creating GUI"
   ]
  },
  {
   "cell_type": "code",
   "execution_count": null,
   "metadata": {},
   "outputs": [
    {
     "name": "stdout",
     "output_type": "stream",
     "text": [
      "The set date is :  d/09/21\n",
      "10:09:02\n"
     ]
    }
   ],
   "source": [
    "clock = Tk()\n",
    "clock.title('DataFlair Alarm Clock')\n",
    "clock.geometry(\"400x200\")\n",
    "time.format=Label(clock,text= \"Enter the time in 24 hour format!\", fg=\"red\",bg='black',\n",
    "                 font='arial').place(x=60,y=120)\n",
    "addTime = Label(clock,text= 'Hour MIN Sec', font=60).place(x=110)\n",
    "setYourAlarm = Label(clock,text = 'When to wake you up',fg = 'blue', relief= \"solid\", font= ('Helevetica',7,\"bold\")).place(x=0,y=29)\n",
    "\n",
    "\n",
    "# The variable we require to set the clock:\n",
    "\n",
    "hour = StringVar()\n",
    "min = StringVar()\n",
    "sec = StringVar()\n",
    "\n",
    "#Time required to set the alarm clock:\n",
    "hourTime = Entry(clock,textvariable =hour,bg ='pink',width =15).place(x=110,y=30)\n",
    "minTime = Entry(clock,textvariable = min,bg =\"pink\" ,width =15).place(x=150,y=30)\n",
    "secTime = Entry(clock,textvariable = sec,bg ='pink' ,width =15).place(x=200,y=30)\n",
    "\n",
    "\n",
    "#To take the time input by user:\n",
    "submit = Button(clock,text = 'set Alarm', fg='red',width=10,command = actual_time).place(x=110,y=70)\n",
    "clock.mainloop()"
   ]
  },
  {
   "cell_type": "code",
   "execution_count": null,
   "metadata": {},
   "outputs": [],
   "source": []
  }
 ],
 "metadata": {
  "kernelspec": {
   "display_name": "Python 3",
   "language": "python",
   "name": "python3"
  },
  "language_info": {
   "codemirror_mode": {
    "name": "ipython",
    "version": 3
   },
   "file_extension": ".py",
   "mimetype": "text/x-python",
   "name": "python",
   "nbconvert_exporter": "python",
   "pygments_lexer": "ipython3",
   "version": "3.7.4"
  }
 },
 "nbformat": 4,
 "nbformat_minor": 2
}
